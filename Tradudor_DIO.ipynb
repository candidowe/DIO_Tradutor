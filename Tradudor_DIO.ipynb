{
  "nbformat": 4,
  "nbformat_minor": 0,
  "metadata": {
    "colab": {
      "provenance": [],
      "authorship_tag": "ABX9TyNufcXUJGVj/VLqA3I7hiYq",
      "include_colab_link": true
    },
    "kernelspec": {
      "name": "python3",
      "display_name": "Python 3"
    },
    "language_info": {
      "name": "python"
    }
  },
  "cells": [
    {
      "cell_type": "markdown",
      "metadata": {
        "id": "view-in-github",
        "colab_type": "text"
      },
      "source": [
        "<a href=\"https://colab.research.google.com/github/candidowe/DIO_Tradutor/blob/main/Tradudor_DIO.ipynb\" target=\"_parent\"><img src=\"https://colab.research.google.com/assets/colab-badge.svg\" alt=\"Open In Colab\"/></a>"
      ]
    },
    {
      "cell_type": "code",
      "execution_count": null,
      "metadata": {
        "id": "pRGH4qT3W3EF",
        "colab": {
          "base_uri": "https://localhost:8080/"
        },
        "outputId": "72039365-67bb-474e-896e-924eff642549"
      },
      "outputs": [
        {
          "output_type": "stream",
          "name": "stdout",
          "text": [
            "Requirement already satisfied: requests in /usr/local/lib/python3.12/dist-packages (2.32.4)\n",
            "Collecting python-docx\n",
            "  Downloading python_docx-1.2.0-py3-none-any.whl.metadata (2.0 kB)\n",
            "Requirement already satisfied: charset_normalizer<4,>=2 in /usr/local/lib/python3.12/dist-packages (from requests) (3.4.3)\n",
            "Requirement already satisfied: idna<4,>=2.5 in /usr/local/lib/python3.12/dist-packages (from requests) (3.10)\n",
            "Requirement already satisfied: urllib3<3,>=1.21.1 in /usr/local/lib/python3.12/dist-packages (from requests) (2.5.0)\n",
            "Requirement already satisfied: certifi>=2017.4.17 in /usr/local/lib/python3.12/dist-packages (from requests) (2025.8.3)\n",
            "Requirement already satisfied: lxml>=3.1.0 in /usr/local/lib/python3.12/dist-packages (from python-docx) (5.4.0)\n",
            "Requirement already satisfied: typing_extensions>=4.9.0 in /usr/local/lib/python3.12/dist-packages (from python-docx) (4.15.0)\n",
            "Downloading python_docx-1.2.0-py3-none-any.whl (252 kB)\n",
            "\u001b[2K   \u001b[90m━━━━━━━━━━━━━━━━━━━━━━━━━━━━━━━━━━━━━━━━\u001b[0m \u001b[32m253.0/253.0 kB\u001b[0m \u001b[31m5.6 MB/s\u001b[0m eta \u001b[36m0:00:00\u001b[0m\n",
            "\u001b[?25hInstalling collected packages: python-docx\n",
            "Successfully installed python-docx-1.2.0\n"
          ]
        }
      ],
      "source": [
        "!pip install requests python-docx"
      ]
    },
    {
      "cell_type": "code",
      "source": [],
      "metadata": {
        "id": "CZltdZjvGqxQ"
      },
      "execution_count": null,
      "outputs": []
    },
    {
      "cell_type": "code",
      "source": [
        "from inspect import Parameter\n",
        "import requests\n",
        "from docx import Document\n",
        "import os\n",
        "subscription_key = \"GIOBchaEZQWZACeGKzeIAxZu7aQJk0SAEoblfNSKESOjcLPgmgYiJQQJ99BJACHYHv6XJ3w3AAAbACOGX9vE\"\n",
        "endpoint = 'https://api.cognitive.microsofttranslator.com'\n",
        "location = \"eastus2\"\n",
        "language_destination = \"pt-br\"\n",
        "\n",
        "def translator_text(text, target_language):\n",
        "    path = '/translate'\n",
        "    constructed_url = endpoint + path\n",
        "    header = {\n",
        "        'Ocp-Apim-Subscription-Key': subscription_key,\n",
        "        'Ocp-Apim-Subscription-Region': location,\n",
        "        'Content-type': 'application/json',\n",
        "        'X-ClientTraceId': str(os.urandom(16))\n",
        "    }\n",
        "\n",
        "    body = [{\n",
        "        'text': text\n",
        "    }]\n",
        "    params={\n",
        "        'api-version': '3.0',\n",
        "        'from': 'en',\n",
        "        'to': target_language\n",
        "    }\n",
        "\n",
        "    request = requests.post(constructed_url, params=params, headers=header, json=body)\n",
        "    response = request.json()\n",
        "    return response[0][\"translations\"][0][\"text\"]\n",
        "\n",
        "\n"
      ],
      "metadata": {
        "id": "zDYzczJs-LPf"
      },
      "execution_count": null,
      "outputs": []
    },
    {
      "cell_type": "code",
      "source": [
        "translator_text(\"I am a man who walks alone\", language_destination)"
      ],
      "metadata": {
        "colab": {
          "base_uri": "https://localhost:8080/",
          "height": 35
        },
        "id": "GX_c-sLxAcyf",
        "outputId": "6f02be42-ce9f-42a6-92d0-9d8eeb069461"
      },
      "execution_count": null,
      "outputs": [
        {
          "output_type": "execute_result",
          "data": {
            "text/plain": [
              "'Eu sou um homem que anda sozinho'"
            ],
            "application/vnd.google.colaboratory.intrinsic+json": {
              "type": "string"
            }
          },
          "metadata": {},
          "execution_count": 15
        }
      ]
    },
    {
      "cell_type": "code",
      "source": [
        "def translate_document(path):\n",
        "  document = Document(path)\n",
        "  full_text = []\n",
        "  for paragraph in document.paragraphs:\n",
        "    translated_text = translator_text(paragraph.text, language_destination)\n",
        "    full_text.append(translated_text)\n",
        "\n",
        "  translated_doc = Document()\n",
        "  for line in full_text:\n",
        "    translated_doc.add_paragraph(line)\n",
        "  path_translated = path.replace(\".docx\", f\"_{language_destination}.docx\")\n",
        "  translated_doc.save(path_translated)\n",
        "  return path_translated\n",
        "input_file = \"/content/MUSICA.docx\"\n",
        "translate_document(input_file)"
      ],
      "metadata": {
        "colab": {
          "base_uri": "https://localhost:8080/",
          "height": 35
        },
        "id": "yxm03rpKCAOa",
        "outputId": "6b15fa0e-06a0-4d6b-fe3b-ad73ae976bcd"
      },
      "execution_count": null,
      "outputs": [
        {
          "output_type": "execute_result",
          "data": {
            "text/plain": [
              "'/content/MUSICA_pt-br.docx'"
            ],
            "application/vnd.google.colaboratory.intrinsic+json": {
              "type": "string"
            }
          },
          "metadata": {},
          "execution_count": 27
        }
      ]
    }
  ]
}